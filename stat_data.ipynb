{
 "cells": [
  {
   "cell_type": "code",
   "execution_count": 7,
   "metadata": {},
   "outputs": [],
   "source": [
    "import pandas as pd\n",
    "import numpy as np"
   ]
  },
  {
   "cell_type": "code",
   "execution_count": 8,
   "metadata": {},
   "outputs": [],
   "source": [
    "ml_data_df = np.load('../SHAP/Network/traces/ml_data_example/data0.npy')\n",
    "ml_data_df = pd.DataFrame(ml_data_df)"
   ]
  },
  {
   "cell_type": "code",
   "execution_count": 9,
   "metadata": {},
   "outputs": [
    {
     "data": {
      "text/html": [
       "<div>\n",
       "<style scoped>\n",
       "    .dataframe tbody tr th:only-of-type {\n",
       "        vertical-align: middle;\n",
       "    }\n",
       "\n",
       "    .dataframe tbody tr th {\n",
       "        vertical-align: top;\n",
       "    }\n",
       "\n",
       "    .dataframe thead th {\n",
       "        text-align: right;\n",
       "    }\n",
       "</style>\n",
       "<table border=\"1\" class=\"dataframe\">\n",
       "  <thead>\n",
       "    <tr style=\"text-align: right;\">\n",
       "      <th></th>\n",
       "      <th>label</th>\n",
       "    </tr>\n",
       "  </thead>\n",
       "  <tbody>\n",
       "    <tr>\n",
       "      <th>0</th>\n",
       "      <td>0</td>\n",
       "    </tr>\n",
       "    <tr>\n",
       "      <th>1</th>\n",
       "      <td>0</td>\n",
       "    </tr>\n",
       "    <tr>\n",
       "      <th>2</th>\n",
       "      <td>0</td>\n",
       "    </tr>\n",
       "    <tr>\n",
       "      <th>3</th>\n",
       "      <td>0</td>\n",
       "    </tr>\n",
       "    <tr>\n",
       "      <th>4</th>\n",
       "      <td>0</td>\n",
       "    </tr>\n",
       "    <tr>\n",
       "      <th>...</th>\n",
       "      <td>...</td>\n",
       "    </tr>\n",
       "    <tr>\n",
       "      <th>1795</th>\n",
       "      <td>8</td>\n",
       "    </tr>\n",
       "    <tr>\n",
       "      <th>1796</th>\n",
       "      <td>8</td>\n",
       "    </tr>\n",
       "    <tr>\n",
       "      <th>1797</th>\n",
       "      <td>8</td>\n",
       "    </tr>\n",
       "    <tr>\n",
       "      <th>1798</th>\n",
       "      <td>8</td>\n",
       "    </tr>\n",
       "    <tr>\n",
       "      <th>1799</th>\n",
       "      <td>8</td>\n",
       "    </tr>\n",
       "  </tbody>\n",
       "</table>\n",
       "<p>1800 rows × 1 columns</p>\n",
       "</div>"
      ],
      "text/plain": [
       "      label\n",
       "0         0\n",
       "1         0\n",
       "2         0\n",
       "3         0\n",
       "4         0\n",
       "...     ...\n",
       "1795      8\n",
       "1796      8\n",
       "1797      8\n",
       "1798      8\n",
       "1799      8\n",
       "\n",
       "[1800 rows x 1 columns]"
      ]
     },
     "execution_count": 9,
     "metadata": {},
     "output_type": "execute_result"
    }
   ],
   "source": [
    "ml_data_labels_df = np.load('../SHAP/Network/traces/ml_data_example/label0.npy')\n",
    "ml_data_labels_df = pd.DataFrame(ml_data_labels_df)\n",
    "# ml_data_labels_df = ml_data_labels_df.rename(columns={0: 'label'})\n",
    "ml_data_labels_df = ml_data_labels_df.rename(columns={0: 'label'})\n",
    "# ['dns', 'ldap', 'mssql', 'netbios', 'ntp', 'snmp', 'syn', 'tftp','udp_ssdp'] \n",
    "# encode with 0-8 in above label order\n",
    "ml_data_labels_df['label'] = ml_data_labels_df['label'].replace(['dns', 'ldap', 'mssql', 'netbios', 'ntp', 'snmp', 'syn', 'tftp','udp_ssdp'],[0,1,2,3,4,5,6,7,8])\n",
    "ml_data_labels_df1 = ml_data_labels_df[0:200]\n",
    "ml_data_labels_df2 = ml_data_labels_df[1250:1450]\n",
    "ml_data_labels_df3 = ml_data_labels_df[4000:4200]\n",
    "ml_data_labels_df4 = ml_data_labels_df[7250:7450]\n",
    "ml_data_labels_df5 = ml_data_labels_df[10350:10550]\n",
    "ml_data_labels_df6 = ml_data_labels_df[10650:10850]\n",
    "ml_data_labels_df7 = ml_data_labels_df[12400:12600]\n",
    "ml_data_labels_df8 = ml_data_labels_df[14700:14900]\n",
    "ml_data_labels_df9 = ml_data_labels_df[15350:15550]\n",
    "sum_ml_data_labels_df = pd.concat([ml_data_labels_df1, ml_data_labels_df2, ml_data_labels_df3, ml_data_labels_df4, ml_data_labels_df5, ml_data_labels_df6, ml_data_labels_df7, ml_data_labels_df8, ml_data_labels_df9], axis=0)\n",
    "sum_ml_data_labels_df = sum_ml_data_labels_df.reset_index(drop=True)\n",
    "sum_ml_data_labels_df"
   ]
  },
  {
   "cell_type": "code",
   "execution_count": 10,
   "metadata": {},
   "outputs": [],
   "source": [
    "ml_data_df1 = ml_data_df[0:200]\n",
    "ml_data_df2 = ml_data_df[1250:1450]\n",
    "ml_data_df3 = ml_data_df[4000:4200]\n",
    "ml_data_df4 = ml_data_df[7250:7450]\n",
    "ml_data_df5 = ml_data_df[10350:10550]\n",
    "ml_data_df6 = ml_data_df[10650:10850]\n",
    "ml_data_df7 = ml_data_df[12400:12600]\n",
    "ml_data_df8 = ml_data_df[14700:14900]\n",
    "ml_data_df9 = ml_data_df[15350:15550]\n",
    "sum_ml_data_df = pd.concat([ml_data_df1, ml_data_df2, ml_data_df3, ml_data_df4, ml_data_df5, ml_data_df6, ml_data_df7, ml_data_df8, ml_data_df9], axis=0)\n",
    "sum_ml_data_df = sum_ml_data_df.reset_index(drop=True)"
   ]
  },
  {
   "attachments": {},
   "cell_type": "markdown",
   "metadata": {},
   "source": [
    "### Save"
   ]
  },
  {
   "cell_type": "code",
   "execution_count": 11,
   "metadata": {},
   "outputs": [],
   "source": [
    "# save the data and labels to csv\n",
    "ml_data_df.to_csv('./sources/ml_data.csv', index=False)\n",
    "ml_data_labels_df.to_csv('./sources/ml_data_labels.csv', index=False)"
   ]
  },
  {
   "cell_type": "code",
   "execution_count": 12,
   "metadata": {},
   "outputs": [],
   "source": [
    "# save the data and labels to npy files\n",
    "np.save('./sources/ml_data(5000).npy', sum_ml_data_df)\n",
    "np.save('./sources/ml_data_labels(5000).npy', sum_ml_data_labels_df)"
   ]
  }
 ],
 "metadata": {
  "kernelspec": {
   "display_name": "Python 3",
   "language": "python",
   "name": "python3"
  },
  "language_info": {
   "codemirror_mode": {
    "name": "ipython",
    "version": 3
   },
   "file_extension": ".py",
   "mimetype": "text/x-python",
   "name": "python",
   "nbconvert_exporter": "python",
   "pygments_lexer": "ipython3",
   "version": "3.10.10"
  },
  "orig_nbformat": 4
 },
 "nbformat": 4,
 "nbformat_minor": 2
}
